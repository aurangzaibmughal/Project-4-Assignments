{
  "nbformat": 4,
  "nbformat_minor": 0,
  "metadata": {
    "colab": {
      "provenance": [],
      "authorship_tag": "ABX9TyMWR0RyctqfsQaoOipzggiG",
      "include_colab_link": true
    },
    "kernelspec": {
      "name": "python3",
      "display_name": "Python 3"
    },
    "language_info": {
      "name": "python"
    }
  },
  "cells": [
    {
      "cell_type": "markdown",
      "metadata": {
        "id": "view-in-github",
        "colab_type": "text"
      },
      "source": [
        "<a href=\"https://colab.research.google.com/github/aurangzaibmughal/Project-4-Assignments/blob/main/00_intro_python.ipynb\" target=\"_parent\"><img src=\"https://colab.research.google.com/assets/colab-badge.svg\" alt=\"Open In Colab\"/></a>"
      ]
    },
    {
      "cell_type": "code",
      "execution_count": 18,
      "metadata": {
        "colab": {
          "base_uri": "https://localhost:8080/"
        },
        "id": "TbSGorP4CJpH",
        "outputId": "17d19b47-30ae-43b8-fba2-e28a43d29e47"
      },
      "outputs": [
        {
          "output_type": "stream",
          "name": "stdout",
          "text": [
            "01_add_two_numbers\n",
            "This application for add two number : \n",
            "Enter your frist number : 15\n",
            "Enter your second number  15\n",
            "The total sum of 15 and 15 is 30\n"
          ]
        }
      ],
      "source": [
        "print(\"01_add_two_numbers\")\n",
        "\n",
        "def add():\n",
        "  print(\"This application for add two number : \")\n",
        "  frist_number = int(input(\"Enter your frist number : \"))\n",
        "  second_number = int(input(\"Enter your second number  \"))\n",
        "  total = int(frist_number + second_number)\n",
        "  print(f\"The total sum of {frist_number} and {second_number} is {total}\")\n",
        "\n",
        "if __name__ == \"__main__\":\n",
        "  add()\n",
        "\n"
      ]
    },
    {
      "cell_type": "code",
      "source": [
        "print(\"02_agreement_bot\")\n",
        "\n",
        "def bot():\n",
        "  animal = str(input(\"What is your favourite animal? \"))\n",
        "  print(f\"Wow , My favourite animal is also {animal} ! \")\n",
        "\n",
        "if __name__ == \"__main__\":\n",
        "  bot()\n"
      ],
      "metadata": {
        "colab": {
          "base_uri": "https://localhost:8080/"
        },
        "id": "9lMqN5z3H0SO",
        "outputId": "755574c8-7cdd-43ee-8e5e-a79fc9f6e4a2"
      },
      "execution_count": 19,
      "outputs": [
        {
          "output_type": "stream",
          "name": "stdout",
          "text": [
            "02_agreement_bot\n",
            "What is your favourite animal? dog\n",
            "Wow , My favourite animal is also dog ! \n"
          ]
        }
      ]
    },
    {
      "cell_type": "code",
      "source": [
        "print(\"03_fahrenheit_to_celsius\")\n",
        "\n",
        "def temp():\n",
        "\n",
        "  print(\"This code for converting temperature converted to Celsius.\")\n",
        "  fahrenheit_degree = float(input(\"Enter temperature in fahrenheit : \"))\n",
        "  celsius_degree = (fahrenheit_degree - 32) * 5.0/9.0\n",
        "  print(f\"The Temperature is {fahrenheit_degree} F =  {celsius_degree} C\")\n",
        "\n",
        "if __name__ == \"__main__\":\n",
        "  temp()\n",
        "\n"
      ],
      "metadata": {
        "colab": {
          "base_uri": "https://localhost:8080/"
        },
        "id": "VE_2vuyAK2xY",
        "outputId": "317d29dd-e710-4f82-97b1-ec89766b904d"
      },
      "execution_count": 24,
      "outputs": [
        {
          "output_type": "stream",
          "name": "stdout",
          "text": [
            "03_fahrenheit_to_celsius\n",
            "This code for converting temperature converted to Celsius.\n",
            "Enter temperature in fahrenheit : 67\n",
            "The Temperature is 67.0 F =  19.444444444444443 C\n"
          ]
        }
      ]
    },
    {
      "cell_type": "code",
      "source": [
        "print(\"04_how_old_are_they\")\n",
        "\n",
        "def old_age():\n",
        "  anton:int  = 21\n",
        "  beth:int = anton + 6\n",
        "  chen:int = beth + 20\n",
        "  drew:int = chen + anton\n",
        "  ethen:int = chen\n",
        "\n",
        "  print(f\"Anton is {anton} years old.\")\n",
        "  print(f\"Beth is {beth} years old.\")\n",
        "  print(f\"Chen is {chen} years old.\")\n",
        "  print(f\"Drew is {drew} years old.\")\n",
        "  print(f\"Ethen is {ethen} years old.\")\n",
        "\n",
        "if __name__ == \"__main__\":\n",
        "  old_age()\n",
        "\n",
        "\n"
      ],
      "metadata": {
        "colab": {
          "base_uri": "https://localhost:8080/"
        },
        "id": "Aj9xn2pTdaR8",
        "outputId": "7de4e808-72b1-4504-cbab-af8498e7e4d4"
      },
      "execution_count": 34,
      "outputs": [
        {
          "output_type": "stream",
          "name": "stdout",
          "text": [
            "04_how_old_are_they\n",
            "Anton is 21 years old.\n",
            "Beth is 27 years old.\n",
            "Chen is 47 years old.\n",
            "Drew is 68 years old.\n",
            "Ethen is 47 years old.\n"
          ]
        }
      ]
    },
    {
      "cell_type": "code",
      "source": [
        "print(\"05_triangle_perimeter\")\n",
        "\n",
        "def main():\n",
        "  print(\"This code for calculating the perimeter of a triangle.\")\n",
        "  side_1 = float(input(\"Enter the length of side 1 : \"))\n",
        "  side_2 = float(input(\"Enter the length of side 2 : \"))\n",
        "  side_3 = float(input(\"Enter the length of side 3 : \"))\n",
        "  total = side_1 + side_2 + side_3\n",
        "  print(f\"The perimeter of the triangle is {total}\")\n",
        "\n",
        "if __name__ == \"__main__\":\n",
        "  main()\n"
      ],
      "metadata": {
        "colab": {
          "base_uri": "https://localhost:8080/"
        },
        "id": "TqW87IcThBk4",
        "outputId": "96e386f4-12c2-429b-8e27-4473e47a44f2"
      },
      "execution_count": 49,
      "outputs": [
        {
          "output_type": "stream",
          "name": "stdout",
          "text": [
            "05_triangle_perimeter\n",
            "This code for calculating the perimeter of a triangle.\n",
            "Enter the length of side 1 : 1\n",
            "Enter the length of side 2 : 2\n",
            "Enter the length of side 3 : 3\n",
            "The perimeter of the triangle is 6.0\n"
          ]
        }
      ]
    },
    {
      "cell_type": "code",
      "source": [
        "print(\"06_square_number\")\n",
        "\n",
        "def square():\n",
        "  print(\"This code for calculating the square of a number.\")\n",
        "  num1: int = int(input(\"Enter any number and i will give you a square value : \"))\n",
        "  print(f\"The square of {num1} is {num1 ** 2 }\")\n",
        "\n",
        "if __name__ == '__main__':\n",
        "    square()"
      ],
      "metadata": {
        "colab": {
          "base_uri": "https://localhost:8080/"
        },
        "id": "pAGC3vtwnbAZ",
        "outputId": "68ea547e-a094-470c-eda1-6119395ea351"
      },
      "execution_count": 54,
      "outputs": [
        {
          "output_type": "stream",
          "name": "stdout",
          "text": [
            "06_square_number\n",
            "This code for calculating the square of a number.\n",
            "Enter any number and i will give you a square value : 100\n",
            "The square of 100 is 10000\n"
          ]
        }
      ]
    },
    {
      "cell_type": "markdown",
      "source": [],
      "metadata": {
        "id": "uPqqWwkmpBze"
      }
    }
  ]
}