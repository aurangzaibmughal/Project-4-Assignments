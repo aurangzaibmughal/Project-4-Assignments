{
  "nbformat": 4,
  "nbformat_minor": 0,
  "metadata": {
    "colab": {
      "provenance": [],
      "authorship_tag": "ABX9TyOcVcpePXxG3bFXNEOZ3mu8",
      "include_colab_link": true
    },
    "kernelspec": {
      "name": "python3",
      "display_name": "Python 3"
    },
    "language_info": {
      "name": "python"
    }
  },
  "cells": [
    {
      "cell_type": "markdown",
      "metadata": {
        "id": "view-in-github",
        "colab_type": "text"
      },
      "source": [
        "<a href=\"https://colab.research.google.com/github/aurangzaibmughal/Project-4-Assignments/blob/main/01_expressions.ipynb\" target=\"_parent\"><img src=\"https://colab.research.google.com/assets/colab-badge.svg\" alt=\"Open In Colab\"/></a>"
      ]
    },
    {
      "cell_type": "code",
      "execution_count": 2,
      "metadata": {
        "colab": {
          "base_uri": "https://localhost:8080/"
        },
        "id": "gdkaW_tE5IPE",
        "outputId": "c6b6b7e6-a71d-499d-e94c-db4f27eee5b5"
      },
      "outputs": [
        {
          "output_type": "stream",
          "name": "stdout",
          "text": [
            "01_dicesimulator\n",
            "die1 in main() start as : 10\n",
            "Total of two dies: 12\n",
            "Total of two dies: 3\n",
            "Total of two dies: 7\n",
            "die1 in main() end as : 10\n"
          ]
        }
      ],
      "source": [
        "import random\n",
        "print(\"01_dicesimulator\")\n",
        "\n",
        "def roll_dice():\n",
        "    dice1:int = random.randint(1, 6)\n",
        "    dice2:int = random.randint(1, 6)\n",
        "    total:int = dice1 + dice2\n",
        "    print(f\"Total of two dies: {total}\")\n",
        "\n",
        "def main():\n",
        "  die1:int = 10\n",
        "  print(\"die1 in main() start as : \" + str(die1))\n",
        "  roll_dice()\n",
        "  roll_dice()\n",
        "  roll_dice()\n",
        "  print(\"die1 in main() end as : \" + str(die1))\n",
        "\n",
        "if __name__ == \"__main__\":\n",
        "    main()\n",
        "\n",
        "\n",
        "\n"
      ]
    },
    {
      "cell_type": "code",
      "source": [
        "print(\"02_e=mc2\")\n",
        "\n",
        "def energy():\n",
        "  c:float = 299792458\n",
        "  m:float = float(input(\"Enter Kilos of mass:  \"))\n",
        "\n",
        "  print(\"e = m * C^2\")\n",
        "  print(\"Mass = \" + str(m) + \" kg\")\n",
        "  print(\"C = \" + str(c) + \" m/s\")\n",
        "  print(\"e = \" + str(m * c  ** 2) + \" joules\")\n",
        "\n",
        "if __name__ == \"__main__\":\n",
        "   energy()\n"
      ],
      "metadata": {
        "colab": {
          "base_uri": "https://localhost:8080/"
        },
        "id": "bIXHDirf9hmg",
        "outputId": "edbdf0a8-86b2-493f-83d3-45da39ffc2e0"
      },
      "execution_count": 20,
      "outputs": [
        {
          "output_type": "stream",
          "name": "stdout",
          "text": [
            "02_e=mc2\n",
            "Enter Kilos of mass:  450\n",
            "e = m * C^2\n",
            "Mass = 450.0 kg\n",
            "C = 299792458 m/s\n",
            "e = 4.0443983043156795e+19 joules\n"
          ]
        }
      ]
    },
    {
      "cell_type": "code",
      "source": [
        "print(\"03_feet_to_inches\")\n",
        "\n",
        "inch: int = 12\n",
        "\n",
        "def foot():\n",
        "  feet:int = int(input(\"Enter feet: \"))\n",
        "  print(f\" There are {inch * feet} inches in {feet} feet.  \")\n",
        "\n",
        "if __name__ == \"__main__\":\n",
        "   foot()\n",
        "\n"
      ],
      "metadata": {
        "colab": {
          "base_uri": "https://localhost:8080/"
        },
        "id": "pQUdkVD_IPb6",
        "outputId": "dba46116-a33c-40b9-c7ae-fc3d18d109b0"
      },
      "execution_count": 22,
      "outputs": [
        {
          "output_type": "stream",
          "name": "stdout",
          "text": [
            "03_feet_to_inches\n",
            "Enter feet: 10\n",
            " There are 120 inches in 10 feet.  \n"
          ]
        }
      ]
    },
    {
      "cell_type": "code",
      "source": [
        "import math\n",
        "print(\"04_pythagorean_theorem\")\n",
        "\n",
        "def triangle():\n",
        "  ab:float = float(input(\"Enter length of side ab : \"))\n",
        "  ac:float = float(input(\"Enter length of side ac : \"))\n",
        "  bc:float = math.sqrt(ab**2 + ac**2)\n",
        "  print(f\"The length of side bc is {bc}\")\n",
        "\n",
        "\n",
        "if __name__ == \"__main__\":\n",
        "   triangle()\n",
        "\n"
      ],
      "metadata": {
        "colab": {
          "base_uri": "https://localhost:8080/"
        },
        "id": "40XsdDmvKKzK",
        "outputId": "0aa00191-0377-4d00-ba28-b891d1b3e9d4"
      },
      "execution_count": 26,
      "outputs": [
        {
          "output_type": "stream",
          "name": "stdout",
          "text": [
            "04_pythagorean_theorem\n",
            "Enter length of side ab : 15\n",
            "Enter length of side ac : 16\n",
            "The length of side bc is 21.93171219946131\n"
          ]
        }
      ]
    },
    {
      "cell_type": "code",
      "source": [
        "print(\"05_remainder_division\")\n",
        "\n",
        "def remainder():\n",
        "  num1:int = int(input(\"Enter dividend: \"))\n",
        "  num2:int = int(input(\"Enter divisor: \"))\n",
        "  quotient:int = num1 // num2\n",
        "  remainder:int = num1 % num2\n",
        "  print(f\"Quotient: {quotient}\")\n",
        "  print(f\"Remainder: {remainder}\")\n",
        "\n",
        "if __name__ == \"__main__\":\n",
        "   remainder()\n",
        "\n",
        "\n",
        "\n",
        "\n"
      ],
      "metadata": {
        "colab": {
          "base_uri": "https://localhost:8080/"
        },
        "id": "0Ux9sJwdNwE3",
        "outputId": "9d8210cf-5765-43a5-ba7f-12c5b46c6c4a"
      },
      "execution_count": 33,
      "outputs": [
        {
          "output_type": "stream",
          "name": "stdout",
          "text": [
            "05_remainder_division\n",
            "Enter dividend: 25\n",
            "Enter divisor: 6\n",
            "Quotient: 4\n",
            "Remainder: 1\n"
          ]
        }
      ]
    },
    {
      "cell_type": "code",
      "source": [
        "print(\"06_rolldice\")\n",
        "\n",
        "def dice():\n",
        "  dice1:int = random.randint(1, 6)\n",
        "  dice2:int = random.randint(1, 6)\n",
        "  total:int = dice1 + dice2\n",
        "\n",
        "  print(f\"Dice 1: {dice1}\")\n",
        "  print(f\"Dice 2: {dice2}\")\n",
        "  print(f\"Total of two dies: {total}\")\n",
        "\n",
        "if __name__ == \"__main__\":\n",
        "   dice()\n"
      ],
      "metadata": {
        "colab": {
          "base_uri": "https://localhost:8080/"
        },
        "id": "SiziaLolQfMW",
        "outputId": "003b47de-c9d1-47a1-da5f-5c0f40d5c0a6"
      },
      "execution_count": 44,
      "outputs": [
        {
          "output_type": "stream",
          "name": "stdout",
          "text": [
            "06_rolldice\n",
            "Dice 1: 4\n",
            "Dice 2: 2\n",
            "Total of two dies: 6\n"
          ]
        }
      ]
    },
    {
      "cell_type": "code",
      "source": [
        "print(\"06_seconds_in_year\")\n",
        "\n",
        "year:int = 365\n",
        "day:int = 24\n",
        "hour:int = 60\n",
        "minute:int = 60\n",
        "second:int = 60\n",
        "\n",
        "def seconds():\n",
        "  second_in_day:int = 24 * 60 * 60\n",
        "  second_in_year:int = second_in_day * 365\n",
        "  print(f\"There are {second_in_year} seconds in a year!\")\n",
        "\n",
        "if __name__ == \"__main__\":\n",
        "    seconds()\n",
        "\n"
      ],
      "metadata": {
        "colab": {
          "base_uri": "https://localhost:8080/"
        },
        "id": "bfhHcUMERv7M",
        "outputId": "b22e71e0-d1de-4329-a9a6-323e6ba3f6c6"
      },
      "execution_count": 50,
      "outputs": [
        {
          "output_type": "stream",
          "name": "stdout",
          "text": [
            "06_seconds_in_year\n",
            "There are 31536000 seconds in a year!\n"
          ]
        }
      ]
    },
    {
      "cell_type": "code",
      "source": [
        "print(\"07_tiny_mad_lib\")\n",
        "\n",
        "def mad_lib():\n",
        "  noun:str = input(\"Enter a noun: \")\n",
        "  verb:str = input(\"Enter a verb: \")\n",
        "  adjective:str = input(\"Enter an adjective: \")\n",
        "\n",
        "  print(f\"Do you {verb} your {adjective} {noun} ? That's hilarious!\")\n",
        "\n",
        "if __name__ == \"__main__\":\n",
        "    mad_lib()\n",
        "\n"
      ],
      "metadata": {
        "colab": {
          "base_uri": "https://localhost:8080/"
        },
        "id": "zbFuiksLTmO8",
        "outputId": "d4024ddd-3889-4743-9fdb-a718eb936a0e"
      },
      "execution_count": 54,
      "outputs": [
        {
          "output_type": "stream",
          "name": "stdout",
          "text": [
            "07_tiny_mad_lib\n",
            "Enter a noun: cat\n",
            "Enter a verb: sleep\n",
            "Enter an adjective: cute\n",
            "Do you sleep your cute cat ? That's hilarious!\n"
          ]
        }
      ]
    }
  ]
}