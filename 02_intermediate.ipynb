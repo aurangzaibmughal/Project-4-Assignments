{
  "nbformat": 4,
  "nbformat_minor": 0,
  "metadata": {
    "colab": {
      "provenance": [],
      "authorship_tag": "ABX9TyPN70OyaxZpr8ybfIiKE76R",
      "include_colab_link": true
    },
    "kernelspec": {
      "name": "python3",
      "display_name": "Python 3"
    },
    "language_info": {
      "name": "python"
    }
  },
  "cells": [
    {
      "cell_type": "markdown",
      "metadata": {
        "id": "view-in-github",
        "colab_type": "text"
      },
      "source": [
        "<a href=\"https://colab.research.google.com/github/aurangzaibmughal/Project-4-Assignments/blob/main/02_intermediate.ipynb\" target=\"_parent\"><img src=\"https://colab.research.google.com/assets/colab-badge.svg\" alt=\"Open In Colab\"/></a>"
      ]
    },
    {
      "cell_type": "code",
      "execution_count": 63,
      "metadata": {
        "colab": {
          "base_uri": "https://localhost:8080/"
        },
        "id": "UWrWekle2laV",
        "outputId": "e66edbc0-5c97-4d47-f3a1-83cb42690965"
      },
      "outputs": [
        {
          "output_type": "stream",
          "name": "stdout",
          "text": [
            "High-Low Game\n",
            "Welcome to the High Low game!\n",
            "*******************************\n",
            "Round 1\n",
            "Your number is 5\n",
            "Do you think your number is higher or lower than the computer's? higher\n",
            "That's incorrect. The computer's number was 87\n",
            "Your score is now 0\n",
            "\n",
            "Round 2\n",
            "Your number is 1\n",
            "Do you think your number is higher or lower than the computer's? lower\n",
            "You were right! The computer's number was 44\n",
            "Your score is now 1\n",
            "\n",
            "Round 3\n",
            "Your number is 43\n",
            "Do you think your number is higher or lower than the computer's? higher\n",
            "You were right! The computer's number was 2\n",
            "Your score is now 2\n",
            "\n",
            "Round 4\n",
            "Your number is 83\n",
            "Do you think your number is higher or lower than the computer's? lower\n",
            "You were right! The computer's number was 100\n",
            "Your score is now 3\n",
            "\n",
            "Round 5\n",
            "Your number is 22\n",
            "Do you think your number is higher or lower than the computer's? lower\n",
            "You were right! The computer's number was 51\n",
            "Your score is now 4\n",
            "\n",
            "Thanks for playing\n"
          ]
        }
      ],
      "source": [
        "import random\n",
        "\n",
        "def main():\n",
        "    print(\"High-Low Game\")\n",
        "    print(\"Welcome to the High Low game!\")\n",
        "    print(\"*******************************\")\n",
        "\n",
        "    ROUNDS = 5\n",
        "    your_score = 0\n",
        "\n",
        "    for i in range(ROUNDS):\n",
        "        print(\"Round\", i + 1)\n",
        "\n",
        "        computer_number = random.randint(1, 100)\n",
        "        your_number = random.randint(1, 100)\n",
        "        print(\"Your number is\", your_number)\n",
        "\n",
        "        choice = input(\"Do you think your number is higher or lower than the computer's? \").lower()\n",
        "        higher_and_correct = choice == \"higher\" and your_number > computer_number\n",
        "        lower_and_correct = choice == \"lower\" and your_number < computer_number\n",
        "\n",
        "        if higher_and_correct or lower_and_correct:\n",
        "            print(\"You were right! The computer's number was\", computer_number)\n",
        "            your_score += 1\n",
        "        else:\n",
        "            print(\"That's incorrect. The computer's number was\", computer_number)\n",
        "\n",
        "        print(\"Your score is now\", your_score)\n",
        "        print()\n",
        "\n",
        "\n",
        "    print(\"Thanks for playing\")\n",
        "\n",
        "if __name__ == \"__main__\":\n",
        "    main()"
      ]
    },
    {
      "cell_type": "code",
      "source": [
        "print(\"Planetary Weights Calculator\")\n",
        "\n",
        "\n",
        "def main():\n",
        "\n",
        "  print(\"Welcome to the Planetary Weights Calculator!\")\n",
        "  print(\"********************************************\")\n",
        "\n",
        "\n",
        "earth_weight = float(input(\"Enter your weight on Earth: \"))\n",
        "\n",
        "gravity_ratio = {\n",
        "    \"Mercury\": 0.38,\n",
        "    \"Venus\": 0.91,\n",
        "    \"Mars\": 0.38,\n",
        "    \"Jupiter\": 2.34,\n",
        "    \"Saturn\": 1.06,\n",
        "    \"Uranus\": 0.92,\n",
        "    \"Neptune\": 1.19\n",
        "}\n",
        "print(\"\\nSelect a planet\")\n",
        "for planet in gravity_ratio:\n",
        "    print(f\"{planet}\")\n",
        "\n",
        "planet_choice = input(\"Enter the name of the planet:\").title()\n",
        "\n",
        "if planet_choice in gravity_ratio:\n",
        "    new_weight = earth_weight * gravity_ratio[planet_choice]\n",
        "    print(f\"Your weight on {planet_choice} is {new_weight:.2f} kg\")\n",
        "\n",
        "else:\n",
        "        print(f\"Sorry, {planet_choice} is not a valid planet.\")\n",
        "\n",
        "if __name__ == \"__main__\":\n",
        "    main()\n",
        "\n",
        "\n"
      ],
      "metadata": {
        "colab": {
          "base_uri": "https://localhost:8080/"
        },
        "id": "3uyjJSv347kL",
        "outputId": "ac22c261-3047-4e6b-d0f5-ef5a24962e3c"
      },
      "execution_count": 70,
      "outputs": [
        {
          "output_type": "stream",
          "name": "stdout",
          "text": [
            "Planetary Weights Calculator\n",
            "Enter your weight on Earth: 66\n",
            "\n",
            "Select a planet\n",
            "Mercury\n",
            "Venus\n",
            "Mars\n",
            "Jupiter\n",
            "Saturn\n",
            "Uranus\n",
            "Neptune\n",
            "Enter the name of the planet:neptune\n",
            "Your weight on Neptune is 78.54 kg\n",
            "Welcome to the Planetary Weights Calculator!\n",
            "********************************************\n"
          ]
        }
      ]
    },
    {
      "cell_type": "code",
      "source": [
        "print(\"Lists and Dicts\")\n",
        "\n",
        "def main():\n",
        "\n",
        "    fruit_list = ['apple', 'banana', 'orange', 'grape', 'pineapple']\n",
        "\n",
        "    print(len(fruit_list))\n",
        "\n",
        "    fruit_list.append('mango')\n",
        "\n",
        "    print(fruit_list)\n",
        "\n",
        "if __name__ == \"__main__\":\n",
        "    main()\n",
        ""
      ],
      "metadata": {
        "colab": {
          "base_uri": "https://localhost:8080/"
        },
        "id": "j3FvaoDTcS61",
        "outputId": "6f9bcc67-9d82-4d49-c3a5-672ab2b49108"
      },
      "execution_count": 71,
      "outputs": [
        {
          "output_type": "stream",
          "name": "stdout",
          "text": [
            "Lists and Dicts\n",
            "5\n",
            "['apple', 'banana', 'orange', 'grape', 'pineapple', 'mango']\n"
          ]
        }
      ]
    },
    {
      "cell_type": "code",
      "source": [
        "print(\"game_interaction\")\n",
        "def get_element(lst, index):\n",
        "    if -len(lst) <= index < len(lst):\n",
        "        return lst[index]\n",
        "    else:\n",
        "        return \"Error: Index out of range.\"\n",
        "\n",
        "def modify_element(lst, index, new_value):\n",
        "    if -len(lst) <= index < len(lst):\n",
        "        lst[index] = new_value\n",
        "        return \"Element updated successfully.\"\n",
        "    else:\n",
        "        return \"Error: Index out of range.\"\n",
        "\n",
        "def slice_list(lst, start, end):\n",
        "    return lst[start:end]\n",
        "\n",
        "def game_interaction():\n",
        "    sample_list = ['apple', 'banana', 'orange', 'grape', 'pineapple']\n",
        "    while True:\n",
        "        print(\"\\nCurrent list:\", sample_list)\n",
        "        choice = input(\"Choose operation (access/modify/slice/quit): \").strip().lower()\n",
        "\n",
        "        if choice == 'quit':\n",
        "            print(\"Exiting the game. Goodbye!\")\n",
        "            break\n",
        "        elif choice == 'access':\n",
        "            try:\n",
        "                index = int(input(\"Enter index: \"))\n",
        "            except ValueError:\n",
        "                print(\"Invalid index. Please enter an integer.\")\n",
        "                continue\n",
        "            result = get_element(sample_list, index)\n",
        "            print(\"Result:\", result)\n",
        "        elif choice == 'modify':\n",
        "            try:\n",
        "                index = int(input(\"Enter index: \"))\n",
        "            except ValueError:\n",
        "                print(\"Invalid index. Please enter an integer.\")\n",
        "                continue\n",
        "            new_value = input(\"Enter new value: \")\n",
        "            # Convert new_value to appropriate type\n",
        "            try:\n",
        "                new_value = int(new_value)\n",
        "            except ValueError:\n",
        "                try:\n",
        "                    new_value = float(new_value)\n",
        "                except ValueError:\n",
        "                    pass  # Keep as string if not a number\n",
        "            msg = modify_element(sample_list, index, new_value)\n",
        "            print(msg)\n",
        "            print(\"Updated list:\", sample_list)\n",
        "        elif choice == 'slice':\n",
        "            try:\n",
        "                start = int(input(\"Enter start index: \"))\n",
        "                end = int(input(\"Enter end index: \"))\n",
        "            except ValueError:\n",
        "                print(\"Invalid indices. Please enter integers.\")\n",
        "                continue\n",
        "            sliced = slice_list(sample_list, start, end)\n",
        "            print(\"Sliced list:\", sliced)\n",
        "        else:\n",
        "            print(\"Invalid operation. Please choose access, modify, slice, or quit.\")\n",
        "\n",
        "if __name__ == \"__main__\":\n",
        "    game_interaction()"
      ],
      "metadata": {
        "colab": {
          "base_uri": "https://localhost:8080/"
        },
        "id": "EK6awtDcfRlo",
        "outputId": "d81eed74-2c0a-4ca5-dc1f-29262824a68a"
      },
      "execution_count": 75,
      "outputs": [
        {
          "output_type": "stream",
          "name": "stdout",
          "text": [
            "game_interaction\n",
            "\n",
            "Current list: ['apple', 'banana', 'orange', 'grape', 'pineapple']\n",
            "Choose operation (access/modify/slice/quit): quit\n",
            "Exiting the game. Goodbye!\n"
          ]
        }
      ]
    }
  ]
}