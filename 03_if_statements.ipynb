{
  "nbformat": 4,
  "nbformat_minor": 0,
  "metadata": {
    "colab": {
      "provenance": [],
      "authorship_tag": "ABX9TyPc69zM5Lv8FIeQJiFVybgg",
      "include_colab_link": true
    },
    "kernelspec": {
      "name": "python3",
      "display_name": "Python 3"
    },
    "language_info": {
      "name": "python"
    }
  },
  "cells": [
    {
      "cell_type": "markdown",
      "metadata": {
        "id": "view-in-github",
        "colab_type": "text"
      },
      "source": [
        "<a href=\"https://colab.research.google.com/github/aurangzaibmughal/Project-4-Assignments/blob/main/03_if_statements.ipynb\" target=\"_parent\"><img src=\"https://colab.research.google.com/assets/colab-badge.svg\" alt=\"Open In Colab\"/></a>"
      ]
    },
    {
      "cell_type": "code",
      "execution_count": 10,
      "metadata": {
        "colab": {
          "base_uri": "https://localhost:8080/"
        },
        "id": "DbjpFH1ubEvn",
        "outputId": "5b4e80a6-cf72-4853-962f-99a04bade8a0"
      },
      "outputs": [
        {
          "output_type": "stream",
          "name": "stdout",
          "text": [
            "01_print_events\n",
            "2\n",
            "3\n",
            "4\n",
            "5\n",
            "6\n",
            "7\n",
            "8\n",
            "9\n",
            "10\n",
            "11\n",
            "12\n",
            "13\n",
            "14\n",
            "15\n",
            "16\n",
            "17\n",
            "18\n",
            "19\n",
            "20\n",
            "21\n",
            "22\n",
            "23\n",
            "24\n",
            "25\n",
            "26\n",
            "27\n",
            "28\n",
            "29\n",
            "30\n",
            "31\n",
            "32\n",
            "33\n",
            "34\n",
            "35\n",
            "36\n",
            "37\n",
            "38\n",
            "39\n",
            "40\n"
          ]
        }
      ],
      "source": [
        "print(\"01_print_events\")\n",
        "\n",
        "def even():\n",
        "  for i in range(39):\n",
        "    even = i + 2\n",
        "    print(even)\n",
        "    # print(\"Here is 20 even number are: \", i + 2)\n",
        "\n",
        "if __name__== \"__main__\":\n",
        "  even()\n",
        "\n"
      ]
    },
    {
      "cell_type": "code",
      "source": [
        "print(\"02_international_voting_age\")\n",
        "\n",
        "Peturksbouipo:int = 16\n",
        "Stanlau:int =  25\n",
        "Mayengua:int =  48\n",
        "\n",
        "def main():\n",
        "  age:int = int(input(\"How old are you?: \"))\n",
        "  if age >= Peturksbouipo:\n",
        "    print(f\"Your age is {age} and you are eligible to vote in Peturksbouipo! ok\")\n",
        "  else:\n",
        "    print(f\"Your age is {age} and you are not eligible to vote in Peturksbouipo! \")\n",
        "\n",
        "  if age >= Stanlau:\n",
        "    print(f\"Your age is {age} and you are eligible to vote in Stanlau! ok\")\n",
        "  else:\n",
        "    print(f\"Your age is {age} and you are not eligible to vote in Stanlau! \")\n",
        "\n",
        "  if age >= Mayengua:\n",
        "    print(f\"Your age is {age} and you are eligible to vote in Mayengua! ok\")\n",
        "  else:\n",
        "    print(f\"Your age is {age} and you are not eligible to vote in Mayengua! \")\n",
        "\n",
        "\n",
        "if __name__ == \"__main__\":\n",
        "  main()"
      ],
      "metadata": {
        "colab": {
          "base_uri": "https://localhost:8080/"
        },
        "id": "2BTAsItNdmck",
        "outputId": "1275a713-f4dc-42f5-c269-258b4742dfdd"
      },
      "execution_count": 33,
      "outputs": [
        {
          "output_type": "stream",
          "name": "stdout",
          "text": [
            "02_international_voting_age\n",
            "How old are you?: 12\n",
            "Your age is 12 and you are not eligible to vote in Peturksbouipo! \n",
            "Your age is 12 and you are not eligible to vote in Stanlau! \n",
            "Your age is 12 and you are not eligible to vote in Mayengua! \n"
          ]
        }
      ]
    },
    {
      "cell_type": "code",
      "source": [
        "print(\"03_leap_year\")\n",
        "\n",
        "def leap_year():\n",
        "  year:int = int(input(\"Enter a year: \"))\n",
        "\n",
        "  if year % 4 == 0:\n",
        "    if year % 100 == 0:\n",
        "      if year % 400 == 0:\n",
        "        print(f\"{year} is a leap year.\")\n",
        "      else:\n",
        "        print(f\"{year} is not a leap year.\")\n",
        "    else:\n",
        "      print(f\"{year} is not a leap year.\")\n",
        "  else:\n",
        "    print(f\"{year} is not a leap year.\")\n",
        "\n",
        "\n",
        "if __name__ == \"__main__\":\n",
        "  leap_year()\n",
        "\n",
        "\n"
      ],
      "metadata": {
        "colab": {
          "base_uri": "https://localhost:8080/"
        },
        "id": "gDBaHCvsnBpC",
        "outputId": "46e6e034-3b73-4ffd-8dc9-bab647515ab1"
      },
      "execution_count": 36,
      "outputs": [
        {
          "output_type": "stream",
          "name": "stdout",
          "text": [
            "03_leap_year\n",
            "Enter a year: 2035\n",
            "2035 is not a leap year.\n"
          ]
        }
      ]
    },
    {
      "cell_type": "code",
      "source": [
        "print(\"04_tall_enough_to_ride\")\n",
        "\n",
        "min_height:int = 50 # arbitrary units\n",
        "\n",
        "def main():\n",
        "\n",
        "  user:float = float(input(\"How tall are you? \"))\n",
        "  if user >= min_height:\n",
        "    print(\"You are tall enough to ride!\")\n",
        "  else:\n",
        "    print(\"You are not tall enough to ride. May be next year.\")\n",
        "\n",
        "if __name__ == \"__main__\":\n",
        "  main()"
      ],
      "metadata": {
        "colab": {
          "base_uri": "https://localhost:8080/"
        },
        "id": "pzwfgSySstxn",
        "outputId": "8374a423-28f4-4e3f-8f67-0e853b34e9ac"
      },
      "execution_count": 47,
      "outputs": [
        {
          "output_type": "stream",
          "name": "stdout",
          "text": [
            "04_tall_enough_to_ride\n",
            "How tall are you? 49\n",
            "You are not tall enough to ride. May be next year.\n"
          ]
        }
      ]
    },
    {
      "cell_type": "code",
      "source": [
        "print(\"05_random_numbers\")\n",
        "\n",
        "import random\n",
        "\n",
        "def main():\n",
        "  for i in range(10):\n",
        "    num:list[int] = random.randint(1, 100)\n",
        "    print(num)\n",
        "\n",
        "if __name__==\"__main__\" :\n",
        "  main()\n",
        "\n"
      ],
      "metadata": {
        "colab": {
          "base_uri": "https://localhost:8080/"
        },
        "id": "FvLXy2rK0e5h",
        "outputId": "2fd7f99d-540b-4e29-afc5-43f06db31aaf"
      },
      "execution_count": 59,
      "outputs": [
        {
          "output_type": "stream",
          "name": "stdout",
          "text": [
            "05_random_numbers\n",
            "81\n",
            "2\n",
            "100\n",
            "65\n",
            "67\n",
            "58\n",
            "26\n",
            "24\n",
            "35\n",
            "44\n"
          ]
        }
      ]
    }
  ]
}