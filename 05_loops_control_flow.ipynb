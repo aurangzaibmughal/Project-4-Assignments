{
  "cells": [
    {
      "cell_type": "markdown",
      "metadata": {
        "id": "view-in-github",
        "colab_type": "text"
      },
      "source": [
        "<a href=\"https://colab.research.google.com/github/aurangzaibmughal/Project-4-Assignments/blob/main/05_loops_control_flow.ipynb\" target=\"_parent\"><img src=\"https://colab.research.google.com/assets/colab-badge.svg\" alt=\"Open In Colab\"/></a>"
      ]
    },
    {
      "cell_type": "code",
      "execution_count": null,
      "metadata": {
        "colab": {
          "base_uri": "https://localhost:8080/"
        },
        "id": "wDAYIUyPZGpt",
        "outputId": "c24b9baa-ba20-42e1-d49f-c01f21deea71"
      },
      "outputs": [
        {
          "name": "stdout",
          "output_type": "stream",
          "text": [
            "I'm thinking of a number between 1 and 100....\n",
            "Enter Your guess: 55\n",
            "Your guess is too high\n",
            "Enter a guess: 45\n",
            "Your guess is too high\n",
            "Enter a guess: 35\n",
            "Your guess is too high\n",
            "Enter a guess: 25\n",
            "Your guess is too high\n",
            "Enter a guess: 26\n",
            "Your guess is too high\n",
            "Enter a guess: 24\n",
            "Your guess is too high\n",
            "Enter a guess: 23\n",
            "Your guess is too high\n",
            "Enter a guess: 20\n",
            "Your guess is too high\n",
            "Enter a guess: 15\n",
            "Your guess is too low\n",
            "Enter a guess: 16\n",
            "Your guess is too low\n",
            "Enter a guess: 18\n",
            "Your guess is too high\n",
            "Enter a guess: 17\n",
            "Congratulations! The number was 17\n"
          ]
        }
      ],
      "source": [
        "import random\n",
        "\n",
        "def main():\n",
        "    secret_number = random.randint(1, 100)\n",
        "    print(\"I'm thinking of a number between 1 and 100....\")\n",
        "\n",
        "    guess = int(input(\"Enter Your guess: \"))\n",
        "\n",
        "    while guess != secret_number:\n",
        "        if guess < secret_number:\n",
        "            print(\"Your guess is too low\")\n",
        "        else:\n",
        "            print(\"Your guess is too high\")\n",
        "        guess = int(input(\"Enter a guess: \"))\n",
        "\n",
        "    print(f\"Congratulations! The number was {secret_number}\")\n",
        "\n",
        "if __name__ == \"__main__\":\n",
        "  main()\n"
      ]
    },
    {
      "cell_type": "code",
      "execution_count": null,
      "metadata": {
        "colab": {
          "base_uri": "https://localhost:8080/"
        },
        "id": "XwL9T57xSMiF",
        "outputId": "177d9bd4-8257-49ac-d2e2-9b7d27c7a9fa"
      },
      "outputs": [
        {
          "name": "stdout",
          "output_type": "stream",
          "text": [
            "01_fibonacci\n",
            "0 1 1 2 3 5 8 13 21 34 55 89 144 233 377 610 987 1597 2584 4181 6765 "
          ]
        }
      ],
      "source": [
        "print(\"01_fibonacci\")\n",
        "\n",
        "max_value = 10000\n",
        "\n",
        "def main():\n",
        "  a,b = 0,1\n",
        "  print(a,b, end = \" \")\n",
        "\n",
        "  while True:\n",
        "    c = a + b\n",
        "    if c > max_value:\n",
        "      break\n",
        "    print(c, end=\" \")\n",
        "    a,b = b,c\n",
        "\n",
        "if __name__ == \"__main__\":\n",
        "  main()\n"
      ]
    },
    {
      "cell_type": "code",
      "execution_count": null,
      "metadata": {
        "colab": {
          "base_uri": "https://localhost:8080/"
        },
        "id": "PmgBm-cmUWCb",
        "outputId": "4ea8c7a5-4c3f-4324-f09b-5fb4890e572f"
      },
      "outputs": [
        {
          "name": "stdout",
          "output_type": "stream",
          "text": [
            "02_print_event\n",
            "0\n",
            "2\n",
            "4\n",
            "6\n",
            "8\n",
            "10\n",
            "12\n",
            "14\n",
            "16\n",
            "18\n",
            "20\n",
            "22\n",
            "24\n",
            "26\n",
            "28\n",
            "30\n",
            "32\n",
            "34\n",
            "36\n",
            "38\n"
          ]
        }
      ],
      "source": [
        "print(\"02_print_event\")\n",
        "\n",
        "def main():\n",
        "  for i in range(20):\n",
        "   print(i*2)\n",
        "\n",
        "if __name__ == \"__main__\":\n",
        "  main()\n",
        "\n"
      ]
    },
    {
      "cell_type": "code",
      "execution_count": null,
      "metadata": {
        "colab": {
          "base_uri": "https://localhost:8080/"
        },
        "id": "RpJYAflOW8XU",
        "outputId": "708b892c-c452-4cfb-de96-cf55dba01da1"
      },
      "outputs": [
        {
          "name": "stdout",
          "output_type": "stream",
          "text": [
            "03_wholesome_machine\n",
            "Welcome to the Wholesome machine: \n",
            "Please type the following affermation:I am capable of doing anything I put my mind too.ok\n",
            "That's wrong! :(\n",
            "Please type the following affermation:I am capable of doing anything I put my mind too.I put my mind too\n",
            "That's wrong! :(\n",
            "Please type the following affermation:I am capable of doing anything I put my mind too.I am capable of doing anything I put my mind too.\n",
            "That's right! :)\n"
          ]
        }
      ],
      "source": [
        "print(\"03_wholesome_machine\")\n",
        "\n",
        "correct_affermation =  \"I am capable of doing anything I put my mind too.\"\n",
        "\n",
        "def main():\n",
        "    print(\"Welcome to the Wholesome machine: \")\n",
        "\n",
        "    while True:\n",
        "        user_input =  input(\"Please type the following affermation:\" + correct_affermation)\n",
        "        if user_input == correct_affermation:\n",
        "          print(\"That's right! :)\")\n",
        "          break\n",
        "        else:\n",
        "          print(\"That's wrong! :(\")\n",
        "\n",
        "\n",
        "if __name__ == \"__main__\":\n",
        "  main()\n",
        "\n",
        "\n"
      ]
    },
    {
      "cell_type": "code",
      "execution_count": null,
      "metadata": {
        "colab": {
          "base_uri": "https://localhost:8080/"
        },
        "id": "JrfzOm8WuEPy",
        "outputId": "d4237daa-efa4-4613-a3c1-42a456c085f1"
      },
      "outputs": [
        {
          "name": "stdout",
          "output_type": "stream",
          "text": [
            "04_liftoff\n",
            "10 9 8 7 6 5 4 3 2 1 Liftoff!\n"
          ]
        }
      ],
      "source": [
        "print(\"04_liftoff\")\n",
        "\n",
        "def main():\n",
        "  for i in range(10,0,-1):\n",
        "    print(i,end = \" \")\n",
        "  print(\"Liftoff!\")\n",
        "\n",
        "if __name__ == \"__main__\":\n",
        "  main()\n",
        "\n"
      ]
    },
    {
      "cell_type": "code",
      "execution_count": 34,
      "metadata": {
        "colab": {
          "base_uri": "https://localhost:8080/"
        },
        "id": "oEyXarCvvWnf",
        "outputId": "ae8b67aa-4613-4891-f88d-c2f295c06094"
      },
      "outputs": [
        {
          "output_type": "stream",
          "name": "stdout",
          "text": [
            "05_double_it\n",
            "Enter a number: 2\n",
            "4\n",
            "8\n",
            "16\n",
            "32\n",
            "64\n",
            "128\n"
          ]
        }
      ],
      "source": [
        "print(\"05_double_it\")\n",
        "\n",
        "def main():\n",
        "  user_value = int(input(\"Enter a number: \"))\n",
        "  while user_value < 100:\n",
        "    user_value = user_value * 2\n",
        "    print(user_value)\n",
        "\n",
        "if __name__ == \"__main__\":\n",
        "  main()\n",
        "\n",
        "\n"
      ]
    }
  ],
  "metadata": {
    "colab": {
      "provenance": [],
      "authorship_tag": "ABX9TyMjKC+DQBncGtTB93u2bxnh",
      "include_colab_link": true
    },
    "kernelspec": {
      "display_name": "Python 3",
      "name": "python3"
    },
    "language_info": {
      "name": "python"
    }
  },
  "nbformat": 4,
  "nbformat_minor": 0
}