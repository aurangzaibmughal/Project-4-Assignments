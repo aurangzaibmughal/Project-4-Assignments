{
  "nbformat": 4,
  "nbformat_minor": 0,
  "metadata": {
    "colab": {
      "provenance": [],
      "authorship_tag": "ABX9TyM8dA4e1IHCJh8IrSWEl5dB",
      "include_colab_link": true
    },
    "kernelspec": {
      "name": "python3",
      "display_name": "Python 3"
    },
    "language_info": {
      "name": "python"
    }
  },
  "cells": [
    {
      "cell_type": "markdown",
      "metadata": {
        "id": "view-in-github",
        "colab_type": "text"
      },
      "source": [
        "<a href=\"https://colab.research.google.com/github/aurangzaibmughal/Project-4-Assignments/blob/main/projects_to_be_submitted_by_students.ipynb\" target=\"_parent\"><img src=\"https://colab.research.google.com/assets/colab-badge.svg\" alt=\"Open In Colab\"/></a>"
      ]
    },
    {
      "cell_type": "markdown",
      "source": [
        "## **Assignments 1 to 6**\n",
        "# Project 1: Mad libs Python Project\n",
        "\n",
        "\n"
      ],
      "metadata": {
        "id": "VnaUJQTAtWLu"
      }
    },
    {
      "cell_type": "code",
      "source": [
        "print(\"Mad libs Python Project\")\n",
        "\n",
        "def mad_libs():\n",
        "  print(\"Let\\'s play Mad Libs fill in the blanks with your own words.\")\n",
        "\n",
        "  name = str(input(\"Give me a Name: \"))\n",
        "  place = str(input(\"Give me a Place: \"))\n",
        "  action_verb = str(input(\"Give me a action Verb: \"))\n",
        "  funny_adj = str(input(\"Give me a Adjective: \"))\n",
        "  random_object = str(input(\"Give me a Random Word: \"))\n",
        "  animal = str  (input(\"Give me a Animal: \"))\n",
        "  funny_exclamation = str(input(\"Give me a Exclamation: \"))\n",
        "\n",
        "  story = f'''\n",
        "  once upon a time there was a person named {name} who lived in {place}.\n",
        "    one day, they found a {funny_adj} and {random_object} that belonged to a {animal}.\n",
        "  The {animal} was {funny_exclamation}.\n",
        "  they decided to {action_verb} the {random_object} to save the {animal}.\n",
        "  '''\n",
        "  print(\"\\nHere is your Mad Lips story: \")\n",
        "  print(story)\n",
        "\n",
        "if __name__ == \"__main__\":\n",
        "  mad_libs()\n",
        "\n"
      ],
      "metadata": {
        "id": "rLHXLFfEt35P"
      },
      "execution_count": null,
      "outputs": []
    },
    {
      "cell_type": "markdown",
      "source": [
        "## **Project 2: Guess the Number Game Python Project (computer)**"
      ],
      "metadata": {
        "id": "p79fM6LEuGPI"
      }
    },
    {
      "cell_type": "code",
      "source": [
        "import random\n",
        "print(\"Welcome to the Number Guessing Game!\")\n",
        "\n",
        "low = 1\n",
        "high = 10\n",
        "\n",
        "print(\"Think of a number between 1 and 10 and computer will be guess it\")\n",
        "\n",
        "if low < high:\n",
        "    guess = random.randint(low, high)\n",
        "    print(\"Computer's guess is : \", guess)\n",
        "\n",
        "    while True:\n",
        "        feedback = input(\"Is the guess too high (H), too low (L), or correct (C)? \").strip().upper()\n",
        "\n",
        "        if feedback == \"C\":\n",
        "            print(\"Yay! Computer guessed your number.\")\n",
        "            break\n",
        "        elif feedback == \"H\":\n",
        "            high = guess - 1\n",
        "            guess = random.randint(low, high)\n",
        "            print(\"Computer's guess is : \", guess)\n",
        "        elif feedback == \"L\":\n",
        "            low = guess + 1\n",
        "            guess = random.randint(low, high)\n",
        "            print(\"Computer's guess is : \", guess)\n",
        "        else:\n",
        "            print(\"Invalid input. Please enter H, L, or C.\")\n",
        "if low >= high:\n",
        "    print(\"Invalid range. Please restart the game and think of a number within the range.\")\n",
        "\n"
      ],
      "metadata": {
        "id": "LgzEwJgxuhZ9"
      },
      "execution_count": null,
      "outputs": []
    },
    {
      "cell_type": "markdown",
      "source": [
        "## **Project 3: Guess the Number Game Python Project (user)**"
      ],
      "metadata": {
        "id": "LblXNedRuqvV"
      }
    },
    {
      "cell_type": "code",
      "source": [
        "import random\n",
        "print(\"Welcome to the Number Guessing Game!\")\n",
        "\n",
        "secret_number = random.randint(1, 10)\n",
        "print(\"I have secret number between 1 and 10. Can you guess it?\")\n",
        "\n",
        "while True:\n",
        "    guess = input(\"Enter your guess (or 'exit' to quit): \")\n",
        "    if guess.lower() == 'exit':\n",
        "        print(\"Thanks for playing!\")\n",
        "        break\n",
        "\n",
        "    try:\n",
        "        guess = int(guess)\n",
        "    except ValueError:\n",
        "        print(\"Please enter a valid number.\")\n",
        "        continue\n",
        "\n",
        "    if guess < 1 or guess > 10:\n",
        "        print(\"Your guess is out of range. Please try again.\")\n",
        "        continue\n",
        "\n",
        "    if guess < secret_number:\n",
        "        print(\"Too low! Try again.\")\n",
        "    elif guess > secret_number:\n",
        "        print(\"Too high! Try again.\")\n",
        "    else:\n",
        "        print(\"Congratulations! You've guessed the number!\")\n",
        "        break\n"
      ],
      "metadata": {
        "id": "-vAQLXQfuzbH"
      },
      "execution_count": null,
      "outputs": []
    },
    {
      "cell_type": "markdown",
      "source": [
        "# **Project 4: Rock, paper, scissors Python Project**"
      ],
      "metadata": {
        "id": "yytb3OiHu7_Y"
      }
    },
    {
      "cell_type": "code",
      "source": [
        "import random\n",
        "print('Welcome to Rock, Paper, Scissors Game!')\n",
        "\n",
        "choices = ['rock', 'paper', 'scissors']\n",
        "user_score = computer_score = 0\n",
        "print(\"Lets\\'s Play\")\n",
        "\n",
        "while True:\n",
        "    user_input = input(\"Type Rock/Paper/Scissors or Q to quit: \").lower()\n",
        "    if user_input == 'q':\n",
        "        break\n",
        "    if user_input not in choices:\n",
        "      print('Invalid Input. please try again!')\n",
        "      continue\n",
        "    computer_chose = random.choice(choices)\n",
        "    print(f'Computer chose {computer_chose}')\n",
        "    if user_input == computer_chose:\n",
        "      print(\"it's a tie!\")\n",
        "    elif (user_input == \"rock\" and computer_chose == \"scissor\") or \\\n",
        "      (user_input == \"paper\" and computer_chose == \"rock\") or \\\n",
        "      (user_input == \"scissors\" and computer_chose == \"paper\"):\n",
        "        print(\"You won!\")\n",
        "        user_score += 1\n",
        "    else:\n",
        "        print(\"Computer wins!\")\n",
        "        computer_score += 1\n",
        "    print(f'Your score is {user_score} and computer score is {computer_score}')\n",
        "    print(\"Let's play again!\")\n",
        "print(\"Thanks for playing!\")"
      ],
      "metadata": {
        "id": "3Kjj4hHgvE2r"
      },
      "execution_count": null,
      "outputs": []
    },
    {
      "cell_type": "markdown",
      "source": [
        "# **Project 5: Hangman Python Project**"
      ],
      "metadata": {
        "id": "yTVFLU5GvfcE"
      }
    },
    {
      "cell_type": "code",
      "source": [
        "import random\n",
        "\n",
        "stages = ['''\n",
        "    ---------\n",
        "    |       |\n",
        "    |\n",
        "    |\n",
        "    |\n",
        "    |\n",
        "    |\n",
        "    --------\n",
        "    ''',\n",
        "    '''\n",
        "    ---------\n",
        "    |       |\n",
        "    |       0\n",
        "    |\n",
        "    |\n",
        "    |\n",
        "    ---------\n",
        "    ''',\n",
        "    '''\n",
        "    ---------\n",
        "    |       |\n",
        "    |       0\n",
        "    |      /|\n",
        "    |\n",
        "    |\n",
        "    ---------\n",
        "    ''',\n",
        "    '''\n",
        "    ---------\n",
        "    |       |\n",
        "    |       0\n",
        "    |      /|\\\n",
        "    |\n",
        "    |\n",
        "    ---------\n",
        "    ''',\n",
        "\n",
        "    ''' ---------\n",
        "    |       |\n",
        "    |       0\n",
        "    |      /|\\\n",
        "    |      /\n",
        "    |\n",
        "    ---------\n",
        "    ''',\n",
        "    '''\n",
        "     ---------\n",
        "    |       |\n",
        "    |       0\n",
        "    |      /|\\\n",
        "    |      / \\\n",
        "    |\n",
        "    ---------\n",
        "    ''']\n",
        "\n",
        "words = [\"apple\", \"banana\", \"cherry\", \"date\", \"elderberry\", \"fig\", \"grape\", \"honeydew\"]\n",
        "\n",
        "chosen_word = random.choice(words)\n",
        "word_display  = ['_' for _ in chosen_word]\n",
        "guess_letters = []\n",
        "lives = len(stages) -1\n",
        "print(\"Welcome to Hangman!\")\n",
        "print(\"Guess the fruits word.\")\n",
        "\n",
        "while True:\n",
        "    print(\" \".join(word_display))\n",
        "    guess = input(\"Guess a letter: \").lower()\n",
        "\n",
        "    if guess in guess_letters:\n",
        "        print(f\"You've already guessed '{guess}'. Try again.\")\n",
        "        continue\n",
        "\n",
        "    guess_letters.append(guess)\n",
        "\n",
        "    if guess in chosen_word:\n",
        "        print(f\"Good guess! '{guess}' is in the word.\")\n",
        "        for index, letter in enumerate(chosen_word):\n",
        "            if letter == guess:\n",
        "                word_display[index] = guess\n",
        "    else:\n",
        "        print(f\"Sorry, '{guess}' is not in the word.\")\n",
        "        print(stages[len(stages) - lives -1])\n",
        "        lives -= 1\n",
        "        print(f\"You have {lives} lives left.\")\n",
        "        if lives == 1:\n",
        "            print(\"Warning: You have only one life left!\")\n",
        "        elif lives == 2:\n",
        "            print(\"Caution: You have two lives left!\")\n",
        "        elif lives == 3:\n",
        "            print(\"You have three lives left. Keep going!\")\n",
        "        elif lives == 4:\n",
        "            print(\"You have four lives left. Stay strong!\")\n",
        "        elif lives == 5:\n",
        "            print(\"You have five lives left. You're doing great!\")\n",
        "        if lives == 0:\n",
        "            print(f\"You lose! The word was '{chosen_word}'.\")\n",
        "            break\n",
        "\n",
        "    if \"_\" not in word_display:\n",
        "        print(f\"You win! The word was '{chosen_word}'.\")\n",
        "        break\n"
      ],
      "metadata": {
        "id": "9Gjn0PgYvo3P"
      },
      "execution_count": null,
      "outputs": []
    },
    {
      "cell_type": "markdown",
      "source": [
        "# **Project 6: Countdown Timer Python Project**"
      ],
      "metadata": {
        "id": "ULG2PRvKv0Oz"
      }
    },
    {
      "cell_type": "code",
      "source": [
        "import time\n",
        "\n",
        "def countdown(second):\n",
        "    mins = second // 60\n",
        "    secs = second % 60\n",
        "    print(f\"{mins:02d}:{secs:02d}\", end=\"\\r\")\n",
        "    time.sleep(1)\n",
        "    second -= 1\n",
        "    if second >= 0:\n",
        "        countdown(second)\n",
        "    else:\n",
        "        print(\"Time's up!\")\n",
        "if __name__ == \"__main__\":\n",
        "    try:\n",
        "        countdown(10)  # Set the countdown time in seconds\n",
        "    except KeyboardInterrupt:\n",
        "        print(\"\\nCountdown interrupted.\")\n",
        "    except Exception as e:\n",
        "        print(f\"An error occurred: {e}\")\n",
        "\n",
        "\n",
        ""
      ],
      "metadata": {
        "id": "3v6oL6nVv6Oj"
      },
      "execution_count": null,
      "outputs": []
    },
    {
      "cell_type": "markdown",
      "source": [
        "# **Project 7: Password Generator Python Project**"
      ],
      "metadata": {
        "id": "DytRkX4xwFj_"
      }
    },
    {
      "cell_type": "code",
      "source": [
        "import random\n",
        "import string\n",
        "\n",
        "def generated_password(length):\n",
        "    # Generate a random password of given length\n",
        "    characters = string.ascii_letters + string.digits + string.punctuation\n",
        "    password = ''.join(random.choice(characters) for _ in range(length))\n",
        "    return password\n",
        "\n",
        "length = int(input(\"Enter the desired password length: \"))  # Ask user for the desired password length\n",
        "    # Ask user for the desired password length\n",
        "\n",
        "if __name__ == \"__main__\":\n",
        "    # Generate and print the password\n",
        "    password = generated_password(length)\n",
        "    print(f\"Generated password:, {password}\")\n",
        "\n",
        "\n"
      ],
      "metadata": {
        "id": "1Sj2ZblJwL6v"
      },
      "execution_count": null,
      "outputs": []
    },
    {
      "cell_type": "markdown",
      "source": [
        "# **Project 8: Create a Python Streamlit BMI Calculator Web App in Just 6 Minutes**"
      ],
      "metadata": {
        "id": "PXqYrTe4wZgk"
      }
    },
    {
      "cell_type": "code",
      "source": [
        "from math import e\n",
        "import streamlit as st\n",
        "\n",
        "st.title(\"BMI Calculator\")\n",
        "st.write(\"Enter Your Height and weight to Claculate your Body Mass Index (BMI)\")\n",
        "\n",
        "# Input fields for weight and height\n",
        "height = st.number_input(\n",
        "\t\"Enter your height (in meters):\", min_value=0.5, max_value=3.0,value=1.75)\n",
        "\n",
        "weight = st.number_input(\n",
        "\t\"Enter your weight (in kilograms):\", min_value=30, max_value=300)\n",
        "# Calculate BMI\n",
        "if st.button(\"Calculate BMI\"):\n",
        "\t# Ensure weight and height are positive numbers\n",
        "    if weight > 0 and height > 0:\n",
        "        bmi = weight / (height ** 2)\n",
        "        st.success(f\"Your BMI is: {bmi:.2f}\")\n",
        "\n",
        "        if bmi < 18.5:\n",
        "            st.warning(\"You are underweight.\")\n",
        "        elif 18.5 <= bmi < 24.9:\n",
        "            st.success(\"You have a normal weight.\")\n",
        "        elif 25 <= bmi < 29.9:\n",
        "            st.warning(\"You are overweight.\")\n",
        "        else:\n",
        "            st.error(\"You are obese.\")\n",
        "    else:\n",
        "        st.error(\"Please enter valid height and weight values.\")\n",
        "\n"
      ],
      "metadata": {
        "id": "Uyqc-SLnwpUU"
      },
      "execution_count": null,
      "outputs": []
    },
    {
      "cell_type": "markdown",
      "source": [
        "# **Project 9: Build a Python Website in 15 Minutes With Streamlit**"
      ],
      "metadata": {
        "id": "8vNXuFNbw3HC"
      }
    },
    {
      "cell_type": "code",
      "source": [
        "from email import message\n",
        "import streamlit as st\n",
        "\n",
        "st.set_page_config(page_title=\"My Python Website\", page_icon=\":guardsman:\", layout=\"wide\")\n",
        "st.markdown(\n",
        "    \"\"\"\n",
        "    <style>\n",
        "    .css-1aumxhk {\n",
        "        background-color: #ff2580;\n",
        "    }\n",
        "    </style>\n",
        "    \"\"\",\n",
        "    unsafe_allow_html=True\n",
        ")\n",
        "st.title(\"Welcome to my pyhon website\")\n",
        "\n",
        "st.sidebar.title(\"Navigation\")\n",
        "pages = st.sidebar.radio(\"Go to\", (\"Home\", \"About\", \"Contact\"))\n",
        "\n",
        "if pages == \"Home\":\n",
        "    st.header(\" Home page.\")\n",
        "    st.write(\"This is the simple home-page built with python and streamlit.\")\n",
        "    name = st.text_input(\"Enter your name\")\n",
        "    if name:\n",
        "        st.success(f\"Hello, {name}! Thank you for visiting my website.\")\n",
        "\n",
        "elif pages == \"About\":\n",
        "    st.header(\"About\")\n",
        "    st.write(\"This webside is built entirly using python and streamlit in under 15 minutes!.\")\n",
        "\n",
        "\n",
        "elif pages == \"Contact\":\n",
        "    st.header(\"Contact Us\")\n",
        "    email = st.text_input(\"Enter your email\")\n",
        "    message = st.text_input(\"Enter your message\")\n",
        "    if st.button(\"Submit\"):\n",
        "        if email:\n",
        "            st.success(\" Thank you we have received your Email successfully!\")\n",
        "        else:\n",
        "            st.error(\"Please enter a valid email address.\")\n",
        "    st.write(\"This is the contact page. You can reach me at my email.\")\n",
        "    st.write(f\"Your email is: {email}\")\n",
        "\n",
        "\n",
        "\n"
      ],
      "metadata": {
        "id": "yG6kUQaDxu6f"
      },
      "execution_count": null,
      "outputs": []
    }
  ]
}