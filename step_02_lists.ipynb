{
  "nbformat": 4,
  "nbformat_minor": 0,
  "metadata": {
    "colab": {
      "provenance": [],
      "authorship_tag": "ABX9TyOc9KDr/LhBnh+BcC5Fsr6Y",
      "include_colab_link": true
    },
    "kernelspec": {
      "name": "python3",
      "display_name": "Python 3"
    },
    "language_info": {
      "name": "python"
    }
  },
  "cells": [
    {
      "cell_type": "markdown",
      "metadata": {
        "id": "view-in-github",
        "colab_type": "text"
      },
      "source": [
        "<a href=\"https://colab.research.google.com/github/aurangzaibmughal/Project-4-Assignments/blob/main/step_02_lists.ipynb\" target=\"_parent\"><img src=\"https://colab.research.google.com/assets/colab-badge.svg\" alt=\"Open In Colab\"/></a>"
      ]
    },
    {
      "cell_type": "code",
      "execution_count": null,
      "metadata": {
        "colab": {
          "base_uri": "https://localhost:8080/"
        },
        "id": "K_s97tX7vOB5",
        "outputId": "a648e427-3595-41a0-810b-1cb62419136a"
      },
      "outputs": [
        {
          "output_type": "stream",
          "name": "stdout",
          "text": [
            "01_add_many_number\n",
            "15\n"
          ]
        }
      ],
      "source": [
        "print(\"01_add_many_number\")\n",
        "\n",
        "def add_number(number)->int:\n",
        "  num:int = 0\n",
        "  for i in number:\n",
        "    num += i\n",
        "  return num\n",
        "\n",
        "def main():\n",
        "  number:list[int] = [1,2,3,4,5]\n",
        "  sum = add_number(number)\n",
        "  print(sum)\n",
        "\n",
        "if __name__ == \"__main__\":\n",
        "  main()\n"
      ]
    },
    {
      "cell_type": "code",
      "source": [
        "print(\"02_double_list\")\n",
        "\n",
        "def main():\n",
        "  numbers:list[int] = [1,2,3,4,5]\n",
        "  for i in range(len(numbers)):\n",
        "    index = numbers[i]\n",
        "    numbers[i] = index * 2\n",
        "  print(numbers)\n",
        "\n",
        "if __name__ == \"__main__\":\n",
        "  main()\n",
        "\n",
        "\n"
      ],
      "metadata": {
        "colab": {
          "base_uri": "https://localhost:8080/"
        },
        "id": "wB9FXkipyKNG",
        "outputId": "cf47bdfd-9996-45e8-8e76-864bfcf7aa39"
      },
      "execution_count": null,
      "outputs": [
        {
          "output_type": "stream",
          "name": "stdout",
          "text": [
            "02_double_list\n",
            "[2, 4, 6, 8, 10]\n"
          ]
        }
      ]
    },
    {
      "cell_type": "code",
      "source": [
        "from typing import List\n",
        "print(\"04_flowing_with_data_structures\")\n",
        "\n",
        "def add_three_copies(lst,data):\n",
        "  for i in range(3):\n",
        "    lst.append(data)\n",
        "\n",
        "def main():\n",
        "  massage = input(\"Enter a massage to copy: \")\n",
        "  lst = []\n",
        "  print(\"Befor list: \",lst)\n",
        "  add_three_copies(lst,massage)\n",
        "  print(\"After list: \",lst)\n",
        "\n",
        "if __name__ == \"__main__\":\n",
        "  main()\n",
        "\n",
        "\n"
      ],
      "metadata": {
        "colab": {
          "base_uri": "https://localhost:8080/"
        },
        "id": "t57BWcLx5QL_",
        "outputId": "d610969b-7544-4393-e746-705d2a9a8916"
      },
      "execution_count": null,
      "outputs": [
        {
          "output_type": "stream",
          "name": "stdout",
          "text": [
            "04_flowing_with_data_structures\n",
            "Enter a massage to copy: hello karachi\n",
            "Befor list:  []\n",
            "After list:  ['hello karachi', 'hello karachi', 'hello karachi']\n"
          ]
        }
      ]
    },
    {
      "cell_type": "code",
      "source": [
        "print(\"05_get_first_element\")\n",
        "\n",
        "def get_first_element(lst):\n",
        "  print(lst[0])\n",
        "\n",
        "def get_lst():\n",
        "  lst = []\n",
        "  elem =str(input(\"Enter a element to add to the list: \"))\n",
        "  while elem != \"\":\n",
        "    lst.append(elem)\n",
        "    elem = (input(\"Enter a element to add to the list: \"))\n",
        "  return lst\n",
        "\n",
        "\n",
        "def main():\n",
        "  lst = get_lst()\n",
        "  get_first_element(lst)\n",
        "\n",
        "if __name__ == \"__main__\":\n",
        "  main()\n",
        "\n",
        "\n",
        "\n",
        "\n",
        "\n"
      ],
      "metadata": {
        "colab": {
          "base_uri": "https://localhost:8080/"
        },
        "id": "HZenvhmU-0Eo",
        "outputId": "357ced53-3355-4045-a460-e4982f9fc31b"
      },
      "execution_count": null,
      "outputs": [
        {
          "output_type": "stream",
          "name": "stdout",
          "text": [
            "05_get_first_element\n",
            "Enter a element to add to the list: h\n",
            "Enter a element to add to the list: f\n",
            "Enter a element to add to the list: \n",
            "h\n"
          ]
        }
      ]
    },
    {
      "cell_type": "code",
      "source": [
        "print(\"05_get_last_element\")\n",
        "\n",
        "def get_last_element(lst):\n",
        "  print(lst[-1])\n",
        "\n",
        "def get_lst():\n",
        "  lst = []\n",
        "  elem =str(input(\"Enter a element to last to the list: \"))\n",
        "  while elem != \"\":\n",
        "    lst.append(elem)\n",
        "    elem = (input(\"Enter a element to last to the list: \"))\n",
        "  return lst\n",
        "\n",
        "\n",
        "def main():\n",
        "  lst = get_lst()\n",
        "  get_last_element(lst)\n",
        "\n",
        "if __name__ == \"__main__\":\n",
        "  main()"
      ],
      "metadata": {
        "colab": {
          "base_uri": "https://localhost:8080/"
        },
        "id": "b8eBDCeqCyNC",
        "outputId": "a7cf728b-2f3c-4616-aaff-36e137d7acab"
      },
      "execution_count": null,
      "outputs": [
        {
          "output_type": "stream",
          "name": "stdout",
          "text": [
            "05_get_last_element\n",
            "Enter a element to last to the list: a\n",
            "Enter a element to last to the list: b\n",
            "Enter a element to last to the list: c\n",
            "Enter a element to last to the list: \n",
            "c\n"
          ]
        }
      ]
    },
    {
      "cell_type": "code",
      "source": [
        "print(\"07_get_list\")\n",
        "\n",
        "def main():\n",
        "  lst = []\n",
        "  val = (input(\"Enter a value to add to the list: \"))\n",
        "  while val:\n",
        "    lst.append(val)\n",
        "    val = (input(\"Enter a value to add to the list: \"))\n",
        "  print(\"Here's the list: \" , lst)\n",
        "\n",
        "\n",
        "\n",
        "if __name__ == \"__main__\":\n",
        "  main()\n",
        "\n"
      ],
      "metadata": {
        "id": "HvndQK1mEaHs",
        "colab": {
          "base_uri": "https://localhost:8080/"
        },
        "outputId": "584f31ac-6933-4474-e7e3-928f544f0e3d"
      },
      "execution_count": 3,
      "outputs": [
        {
          "output_type": "stream",
          "name": "stdout",
          "text": [
            "07_get_list\n",
            "Enter a value to add to the list: aurangzaib\n",
            "Enter a value to add to the list: mughal\n",
            "Enter a value to add to the list: noman\n",
            "Enter a value to add to the list: mirza\n",
            "Enter a value to add to the list: ;\n",
            "Enter a value to add to the list: \n",
            "Here's the list:  ['aurangzaib', 'mughal', 'noman', 'mirza', ';']\n"
          ]
        }
      ]
    },
    {
      "cell_type": "code",
      "source": [
        "print(\"08_shorten\")\n",
        "\n",
        "MAX_LENGTH:int = 3\n",
        "def shorten(lst):\n",
        "  while len(lst) > MAX_LENGTH:\n",
        "    last_element = lst.pop()\n",
        "    print(last_element)\n",
        "\n",
        "def get_lst():\n",
        "  list = []\n",
        "  element = (input(\"Enter a element to add to the list: \"))\n",
        "  while element != \"\":\n",
        "    list.append(element)\n",
        "    element = (input(\"Enter a element to add to the list: \"))\n",
        "  return list\n",
        "\n",
        "def main():\n",
        "  lst = get_lst()\n",
        "  shorten(lst)\n",
        "\n",
        "if __name__ == \"__main__\":\n",
        "\n",
        "  main()\n",
        "\n"
      ],
      "metadata": {
        "colab": {
          "base_uri": "https://localhost:8080/"
        },
        "id": "CL5eGkDMboUV",
        "outputId": "f11245be-d352-4a5f-9dcc-1b3796b9e6c7"
      },
      "execution_count": 11,
      "outputs": [
        {
          "output_type": "stream",
          "name": "stdout",
          "text": [
            "08_shorten\n",
            "Enter a element to add to the list: lk\n",
            "Enter a element to add to the list: kl\n",
            "Enter a element to add to the list: lk\n",
            "Enter a element to add to the list: kj\n",
            "Enter a element to add to the list: jh\n",
            "Enter a element to add to the list: jh\n",
            "Enter a element to add to the list: \n",
            "jh\n",
            "jh\n",
            "kj\n"
          ]
        }
      ]
    }
  ]
}